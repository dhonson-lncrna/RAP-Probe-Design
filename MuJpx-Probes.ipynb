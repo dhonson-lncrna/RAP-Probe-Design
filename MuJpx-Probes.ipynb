{
 "cells": [
  {
   "cell_type": "code",
   "execution_count": 1,
   "metadata": {},
   "outputs": [],
   "source": [
    "# Import the RAP probe design module\n",
    "import rpd"
   ]
  },
  {
   "cell_type": "code",
   "execution_count": 2,
   "metadata": {},
   "outputs": [
    {
     "name": "stdout",
     "output_type": "stream",
     "text": [
      "            Name                                           Sequence  \\\n",
      "0  MuJpx_83mer_1  CAAGTCACACGATTTGAGAATTTATTTTCACAGAGATGCAATCATC...   \n",
      "1  MuJpx_83mer_2  CAAGTCAAATTGACCGGATTTCAAAACAAAACAAAACACTCATTCA...   \n",
      "2  MuJpx_83mer_3  CAAGTCAAAAGAAACTTTATATGACATCTATGGAGAAAAAAAAAGG...   \n",
      "3  MuJpx_83mer_4  CAAGTCAAGTTCTAGCTGGTAAATCTGGACTTCTCCACATGCATCA...   \n",
      "4  MuJpx_83mer_5  CAAGTCAACTAGACATTTCAGGACCAGTTTTCCTATGGTCAGAGGA...   \n",
      "\n",
      "   Length (bp)  Tm (°C) Nanomoles  \n",
      "0           90     83.2      25nm  \n",
      "1           90     78.6      25nm  \n",
      "2           90     82.8      25nm  \n",
      "3           90     85.4      25nm  \n",
      "4           90     82.2      25nm  \n"
     ]
    }
   ],
   "source": [
    "# Make 83mer probes based on a FASTA in the current directory\n",
    "mujpx, filename, name = rpd.rap_probes('MuJpx.fasta.txt', 'MuJpx', probe_length=83)\n",
    "\n",
    "print(mujpx.iloc[:5,:])"
   ]
  },
  {
   "cell_type": "code",
   "execution_count": 3,
   "metadata": {},
   "outputs": [
    {
     "name": "stdout",
     "output_type": "stream",
     "text": [
      "            Name                                           Sequence  \\\n",
      "2  MuJpx_83mer_3  CAAGTCAAAAGAAACTTTATATGACATCTATGGAGAAAAAAAAAGG...   \n",
      "3  MuJpx_83mer_4  CAAGTCAAGTTCTAGCTGGTAAATCTGGACTTCTCCACATGCATCA...   \n",
      "5  MuJpx_83mer_6  CAAGTCAAGTCCTCCGTGTATTCATGTTTATTTTCATAAATAACAC...   \n",
      "6  MuJpx_83mer_7  CAAGTCAATATACATGTATTTTCTAGGTTGCTGCTTAGTCCAGAAG...   \n",
      "7  MuJpx_83mer_8  CAAGTCAACCTTCTAAATCTGTTTTTCAACAGGAAGTACCCAGGCT...   \n",
      "\n",
      "   Length (bp)  Tm (°C) Nanomoles  \n",
      "2           90     82.8      25nm  \n",
      "3           90     85.4      25nm  \n",
      "5           90     82.7      25nm  \n",
      "6           90     84.0      25nm  \n",
      "7           90     85.1      25nm  \n"
     ]
    }
   ],
   "source": [
    "# Use the resulting \"fasta-input\" file to blat all the probes\n",
    "# Manually assemble a list of the ones that blatted poorly \n",
    "# (>25bp match elsewhere in genome)\n",
    "\n",
    "bad_probes = [1,10,11,12,13,14,16,17,2,20,\n",
    "              23,5,9,27,28,29,30,31,32,33,\n",
    "              34,35,36,37,40]\n",
    "\n",
    "mujpx = rpd.probe_filter(bad_probes, mujpx, name)\n",
    "print(mujpx.iloc[:5,:])"
   ]
  },
  {
   "cell_type": "code",
   "execution_count": 4,
   "metadata": {},
   "outputs": [
    {
     "name": "stdout",
     "output_type": "stream",
     "text": [
      "            Name                                           Sequence  \\\n",
      "2  MuJpx_83mer_3  CAAGTCAAAAGAAACTTTATATGACATCTATGGAGAAAAAAAAAGG...   \n",
      "3  MuJpx_83mer_4  CAAGTCAAGTTCTAGCTGGTAAATCTGGACTTCTCCACATGCATCA...   \n",
      "5  MuJpx_83mer_6  CAAGTCAAGTCCTCCGTGTATTCATGTTTATTTTCATAAATAACAC...   \n",
      "6  MuJpx_83mer_7  CAAGTCAATATACATGTATTTTCTAGGTTGCTGCTTAGTCCAGAAG...   \n",
      "7  MuJpx_83mer_8  CAAGTCAACCTTCTAAATCTGTTTTTCAACAGGAAGTACCCAGGCT...   \n",
      "\n",
      "   Length (bp)  Tm (°C) Nanomoles  \n",
      "2           90     82.8      25nm  \n",
      "3           90     85.4      25nm  \n",
      "5           90     82.7      25nm  \n",
      "6           90     84.0      25nm  \n",
      "7           90     85.1      25nm  \n"
     ]
    }
   ],
   "source": [
    "# Use the resulting 'blat-filtered_fasta-input' file to \n",
    "# run Repeat Masker and Tandem Repeat Finder\n",
    "# Manually assemble a list of probes containing repeats\n",
    "# Jpx probes contained no repeats, but this would be the next step\n",
    "\n",
    "bad_probes = []\n",
    "\n",
    "mujpx = rpd.probe_filter(bad_probes, mujpx, name, filter_type = 'repeats')\n",
    "\n",
    "print(mujpx.iloc[:5,:])"
   ]
  },
  {
   "cell_type": "code",
   "execution_count": 5,
   "metadata": {},
   "outputs": [
    {
     "name": "stdout",
     "output_type": "stream",
     "text": [
      "            Name                                           Sequence  \\\n",
      "2  MuJpx_83mer_1  CAAGTCAAAAGAAACTTTATATGACATCTATGGAGAAAAAAAAAGG...   \n",
      "3  MuJpx_83mer_2  CAAGTCAAGTTCTAGCTGGTAAATCTGGACTTCTCCACATGCATCA...   \n",
      "5  MuJpx_83mer_3  CAAGTCAAGTCCTCCGTGTATTCATGTTTATTTTCATAAATAACAC...   \n",
      "6  MuJpx_83mer_4  CAAGTCAATATACATGTATTTTCTAGGTTGCTGCTTAGTCCAGAAG...   \n",
      "7  MuJpx_83mer_5  CAAGTCAACCTTCTAAATCTGTTTTTCAACAGGAAGTACCCAGGCT...   \n",
      "\n",
      "   Length (bp)  Tm (°C) Nanomoles  \n",
      "2           90     82.8      25nm  \n",
      "3           90     85.4      25nm  \n",
      "5           90     82.7      25nm  \n",
      "6           90     84.0      25nm  \n",
      "7           90     85.1      25nm  \n"
     ]
    }
   ],
   "source": [
    "# Reindex the probes so that they are not out of order\n",
    "mujpx = rpd.reindex(mujpx, name)\n",
    "\n",
    "print(mujpx.iloc[:5,:])"
   ]
  },
  {
   "cell_type": "code",
   "execution_count": 6,
   "metadata": {},
   "outputs": [],
   "source": [
    "# Update the final probe list\n",
    "mujpx.to_csv(filename)"
   ]
  },
  {
   "cell_type": "code",
   "execution_count": null,
   "metadata": {},
   "outputs": [],
   "source": []
  }
 ],
 "metadata": {
  "kernelspec": {
   "display_name": "Python 3",
   "language": "python",
   "name": "python3"
  },
  "language_info": {
   "codemirror_mode": {
    "name": "ipython",
    "version": 3
   },
   "file_extension": ".py",
   "mimetype": "text/x-python",
   "name": "python",
   "nbconvert_exporter": "python",
   "pygments_lexer": "ipython3",
   "version": "3.7.3"
  }
 },
 "nbformat": 4,
 "nbformat_minor": 2
}
