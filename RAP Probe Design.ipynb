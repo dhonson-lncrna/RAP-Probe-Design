{
 "cells": [
  {
   "cell_type": "code",
   "execution_count": 1,
   "metadata": {},
   "outputs": [],
   "source": [
    "# Imports\n",
    "from Bio.Seq import Seq\n",
    "from Bio import SeqIO\n",
    "from Bio.SeqUtils import MeltingTemp as mt\n",
    "import pandas as pd"
   ]
  },
  {
   "cell_type": "code",
   "execution_count": 2,
   "metadata": {},
   "outputs": [],
   "source": [
    "# The rap_probes function depends on the fasta_input function to \n",
    "# output an easily blat-able file in addition to the full probes list,\n",
    "# so fasta_input comes first\n",
    "\n",
    "def fasta_input(probe_complete, gene_name):\n",
    "    '''Converts the probe output into a csv convenient for FASTA inputs'''\n",
    "    # Put the sequences in a list\n",
    "    bip = [i for i in probe_complete.iloc[:,1]]\n",
    "    \n",
    "    # Match the sequences to their names\n",
    "    for i in range(len(probe_complete)):\n",
    "        bip.insert(2*i, '>' + probe_complete.iloc[i,0])\n",
    "        \n",
    "    # Convert list to a pandas dataframe\n",
    "    bip_pd = pd.DataFrame({'Probes':bip})\n",
    "    \n",
    "    # Name the file\n",
    "    name = gene_name + '_fasta-input.csv'\n",
    "    \n",
    "    # Export\n",
    "    bip_pd.to_csv(name)\n",
    "    \n",
    "    return bip_pd"
   ]
  },
  {
   "cell_type": "code",
   "execution_count": 5,
   "metadata": {},
   "outputs": [],
   "source": [
    "def rap_probes(file, gene_name, probe_length = 50, coverage  = 1, adaptor = 'CAAGTCA', nmol = '25nm'):\n",
    "    '''Takes a FASTA imported as a Pandas DataFrame and generates \n",
    "    RNA affinity purification probes based on given parameters'''\n",
    "    # Necessary imports:\n",
    "    # from Bio.Seq import Seq\n",
    "    # import pandas as pd\n",
    "    # from Bio import SeqIO\n",
    "    # from Bio.SeqUtils import MeltingTemp as mt\n",
    "    # fasta_input function defined above\n",
    "    \n",
    "    # Import the FASTA as a Pandas Dataframe\n",
    "    ls = SeqIO.read(file, 'fasta').seq\n",
    "    ls = ls.reverse_complement()\n",
    "    \n",
    "    # Generate start indices for each probe\n",
    "    ind2 = [int(i*(probe_length/coverage)) for i in range(0,int(len(ls)/probe_length*coverage))]\n",
    "    \n",
    "    # Add a last probe if more than a quarter probe remains\n",
    "    if ind2[-1] < int(len(ls) - probe_length/4):\n",
    "        ind2.append(len(ls)-probe_length)\n",
    "    \n",
    "    # Generate the probes\n",
    "    probes = [ls[i:i+probe_length] for i in ind2]\n",
    "    \n",
    "    # Add adaptor to 5' end of probes\n",
    "    probes = [str(adaptor + i) for i in probes]\n",
    "    \n",
    "    # Double check probe lengths\n",
    "    lengths = [len(i) for i in probes]\n",
    "    \n",
    "    # Calculate Tms for probes based on hybridization buffer\n",
    "    melts = [mt.Tm_NN(i, Na = 500, Tris = 10) for i in probes]\n",
    "    melts = [round(i,1) for i in melts]\n",
    "    \n",
    "    # Make appropriate labels for each probe\n",
    "    labels = [gene_name + '_' + str(probe_length) + 'mer_' + str(i) for i in range(1, len(probes)+ 1)]\n",
    "    \n",
    "    # Add nanomoles to order from IDT\n",
    "    idt_bulk = [nmol for i in range(len(probes))]\n",
    "    \n",
    "    # Put everything in a DataFrame\n",
    "    probe_complete = pd.DataFrame({\n",
    "        'Name':labels,\n",
    "        'Sequence':probes,\n",
    "        'Length (bp)': lengths,\n",
    "        'Tm (°C)':melts,\n",
    "        'Nanomoles':idt_bulk\n",
    "    })\n",
    "    \n",
    "    # Name your file\n",
    "    name = gene_name + '_' + str(probe_length) + 'mer' + '_Probes.csv'\n",
    "    \n",
    "    probe_complete.to_csv(name)\n",
    "    \n",
    "    # Create a csv that is compatible with programs that require fasta inputs\n",
    "    fasta_name = gene_name + '_' + str(probe_length) + 'mer' + '_Probes'\n",
    "    \n",
    "    fasta_input(probe_complete, fasta_name)\n",
    "    \n",
    "    return probe_complete, name"
   ]
  },
  {
   "cell_type": "code",
   "execution_count": 7,
   "metadata": {},
   "outputs": [
    {
     "name": "stdout",
     "output_type": "stream",
     "text": [
      "MuTsix_83mer_Probes.csv\n",
      "             Name                                           Sequence  \\\n",
      "0  MuTsix_83mer_1  CAAGTCATGGAGGTGTTTTTTAGAAAAATATTTATTTAATGTGAGT...   \n",
      "1  MuTsix_83mer_2  CAAGTCACGGATCCCACTACAGATGACTGTGAGCCACTACGAAGTT...   \n",
      "2  MuTsix_83mer_3  CAAGTCACTAACCACTGAGCTATCTCTCCAGCCCAGGAACTGAGTT...   \n",
      "3  MuTsix_83mer_4  CAAGTCATGTCCCCGAAACCTGACATACCTTGATGTACACGGTGTG...   \n",
      "4  MuTsix_83mer_5  CAAGTCACAGAGACTAAATTTAACTCTTTAATTTGATGATTCTCTC...   \n",
      "\n",
      "   Length (bp)  Tm (°C) Nanomoles  \n",
      "0           90     81.0      25nm  \n",
      "1           90     88.8      25nm  \n",
      "2           90     84.8      25nm  \n",
      "3           90     85.6      25nm  \n",
      "4           90     82.4      25nm  \n"
     ]
    }
   ],
   "source": [
    "tsix90mer, filename = rap_probes('MuTsix.fasta.txt','MuTsix', probe_length=83)\n",
    "print(filename)\n",
    "print(tsix90mer.iloc[:5,:])"
   ]
  },
  {
   "cell_type": "code",
   "execution_count": 8,
   "metadata": {},
   "outputs": [
    {
     "name": "stdout",
     "output_type": "stream",
     "text": [
      "['MuTsix_83mer_1', 'MuTsix_83mer_2', 'MuTsix_83mer_3', 'MuTsix_83mer_7', 'MuTsix_83mer_9', 'MuTsix_83mer_10', 'MuTsix_83mer_18', 'MuTsix_83mer_20', 'MuTsix_83mer_24', 'MuTsix_83mer_28', 'MuTsix_83mer_51']\n"
     ]
    }
   ],
   "source": [
    "# Manually input 25 probes at a time into blat. Exclude anything with >25 matches in the genome\n",
    "# Make a list with all the indices and make them pandas searchable\n",
    "bad_blats = [1,2,3,7,9,10,18,20,24,28,51]\n",
    "bad_blats = ['MuTsix_83mer_' + str(i) for i in bad_blats]\n",
    "\n",
    "print(bad_blats)"
   ]
  },
  {
   "cell_type": "code",
   "execution_count": 9,
   "metadata": {},
   "outputs": [
    {
     "name": "stdout",
     "output_type": "stream",
     "text": [
      "               Name                                           Sequence  \\\n",
      "3    MuTsix_83mer_4  CAAGTCATGTCCCCGAAACCTGACATACCTTGATGTACACGGTGTG...   \n",
      "4    MuTsix_83mer_5  CAAGTCACAGAGACTAAATTTAACTCTTTAATTTGATGATTCTCTC...   \n",
      "5    MuTsix_83mer_6  CAAGTCACCAGTACCTCGCAAGTTCTAAATTCTCTTTGTACAGCTC...   \n",
      "7    MuTsix_83mer_8  CAAGTCATGGTGTGCTTGTTACTCTGATCCTGATCGCTCTGTCAAC...   \n",
      "10  MuTsix_83mer_11  CAAGTCACTCAATAGTAAGATTAGTGAATTGCTGGCACTTTGATCG...   \n",
      "11  MuTsix_83mer_12  CAAGTCACCTAAAGGGAACTTAGAACAGACTGTGAATTATTTGTCA...   \n",
      "12  MuTsix_83mer_13  CAAGTCACAGGGTGTCTGATCTCTTTCATGTGGATATTCATAGTTT...   \n",
      "13  MuTsix_83mer_14  CAAGTCACTGGGGCGAGTAAGATACCAATGAGCTATTATTCCCTCA...   \n",
      "14  MuTsix_83mer_15  CAAGTCAGAGTAACGTACTTCAGTGCGTTTTTGTCCCAAGGTATGG...   \n",
      "15  MuTsix_83mer_16  CAAGTCAAACTATGAGCGTAAGCCCACCAAATCGGTCACAACTAAT...   \n",
      "\n",
      "    Length (bp)  Tm (°C) Nanomoles  \n",
      "3            90     85.6      25nm  \n",
      "4            90     82.4      25nm  \n",
      "5            90     84.3      25nm  \n",
      "7            90     83.5      25nm  \n",
      "10           90     83.4      25nm  \n",
      "11           90     82.5      25nm  \n",
      "12           90     82.4      25nm  \n",
      "13           90     84.8      25nm  \n",
      "14           90     87.4      25nm  \n",
      "15           90     85.3      25nm  \n"
     ]
    }
   ],
   "source": [
    "# Get rid of the bad blat probes\n",
    "for i in bad_blats:\n",
    "    tsix90mer = tsix90mer[tsix90mer.Name != i]\n",
    "\n",
    "print(tsix90mer.iloc[:10,:])"
   ]
  },
  {
   "cell_type": "code",
   "execution_count": 10,
   "metadata": {},
   "outputs": [],
   "source": [
    "# Make a file to search for repetitive elements in Repeat Masker and Tandem Repeats Finder\n",
    "tsix90mer_repeatmask = fasta_input(tsix90mer, 'MuTsix_83mer_Probes_Repeat')\n",
    "\n",
    "#No repeats found. Proceed to renaming"
   ]
  },
  {
   "cell_type": "code",
   "execution_count": 13,
   "metadata": {},
   "outputs": [
    {
     "name": "stdout",
     "output_type": "stream",
     "text": [
      "              Name                                           Sequence  \\\n",
      "3   MuTsix_83mer_1  CAAGTCATGTCCCCGAAACCTGACATACCTTGATGTACACGGTGTG...   \n",
      "4   MuTsix_83mer_2  CAAGTCACAGAGACTAAATTTAACTCTTTAATTTGATGATTCTCTC...   \n",
      "5   MuTsix_83mer_3  CAAGTCACCAGTACCTCGCAAGTTCTAAATTCTCTTTGTACAGCTC...   \n",
      "7   MuTsix_83mer_4  CAAGTCATGGTGTGCTTGTTACTCTGATCCTGATCGCTCTGTCAAC...   \n",
      "10  MuTsix_83mer_5  CAAGTCACTCAATAGTAAGATTAGTGAATTGCTGGCACTTTGATCG...   \n",
      "\n",
      "    Length (bp)  Tm (°C) Nanomoles  \n",
      "3            90     85.6      25nm  \n",
      "4            90     82.4      25nm  \n",
      "5            90     84.3      25nm  \n",
      "7            90     83.5      25nm  \n",
      "10           90     83.4      25nm  \n"
     ]
    }
   ],
   "source": [
    "# Rename probes with final indices\n",
    "for i in range(len(tsix90mer)):\n",
    "    tsix90mer.iloc[i,0] = 'MuTsix_83mer_' + str(i+1)\n",
    "print(tsix90mer.iloc[:5,:])"
   ]
  },
  {
   "cell_type": "code",
   "execution_count": 14,
   "metadata": {},
   "outputs": [],
   "source": [
    "# Export final probes\n",
    "tsix90mer.to_csv(filename)"
   ]
  }
 ],
 "metadata": {
  "kernelspec": {
   "display_name": "Python 3",
   "language": "python",
   "name": "python3"
  },
  "language_info": {
   "codemirror_mode": {
    "name": "ipython",
    "version": 3
   },
   "file_extension": ".py",
   "mimetype": "text/x-python",
   "name": "python",
   "nbconvert_exporter": "python",
   "pygments_lexer": "ipython3",
   "version": "3.7.3"
  }
 },
 "nbformat": 4,
 "nbformat_minor": 2
}
