{
 "cells": [
  {
   "cell_type": "code",
   "execution_count": 4,
   "metadata": {},
   "outputs": [],
   "source": [
    "# Imports\n",
    "from Bio.Seq import Seq\n",
    "from Bio.SeqUtils import MeltingTemp as mt\n",
    "import pandas as pd"
   ]
  },
  {
   "cell_type": "code",
   "execution_count": 1,
   "metadata": {},
   "outputs": [],
   "source": [
    "def rap_probes(file, gene_name, probe_length = 50, coverage  = 1, adaptor = 'CAAGTCA', nmol = '25nm'):\n",
    "    '''Takes a FASTA imported as a Pandas DataFrame and generates \n",
    "    RNA affinity purification probes based on given parameters'''\n",
    "    # Necessary imports:\n",
    "    # from Bio.Seq import Seq\n",
    "    # import pandas as pd\n",
    "    # from Bio.SeqUtils import MeltingTemp as mt\n",
    "    \n",
    "    # Import the FASTA as a Pandas Dataframe\n",
    "    seq = pd.read_csv(file)\n",
    "    \n",
    "    # Reformat the FASTA as a Biopython sequence object and generate reverse complement\n",
    "    ls = [seq.iloc[i,0] for i in range(len(seq))]\n",
    "    ls = Seq(''.join(ls))\n",
    "    ls = ls.complement()\n",
    "    \n",
    "    # Generate start indices for each probe\n",
    "    ind2 = [int(i*(probe_length/coverage)) for i in range(0,int(len(ls)/probe_length*coverage))]\n",
    "    \n",
    "    # Add a last probe if more than a quarter probe remains\n",
    "    if ind2[-1] < int(len(ls) - probe_length/4):\n",
    "        ind2.append(len(ls)-probe_length)\n",
    "    \n",
    "    # Generate the probes\n",
    "    probes = [ls[i:i+probe_length] for i in ind2]\n",
    "    \n",
    "    # Add adaptor to 5' end of probes\n",
    "    probes = [str(adaptor + i) for i in probes]\n",
    "    \n",
    "    # Double check probe lengths\n",
    "    lengths = [len(i) for i in probes]\n",
    "    \n",
    "    # Calculate Tms for probes based on hybridization buffer\n",
    "    melts = [mt.Tm_NN(i, Na = 500, Tris = 10) for i in probes]\n",
    "    melts = [round(i,1) for i in melts]\n",
    "    \n",
    "    # Make appropriate labels for each probe\n",
    "    labels = [gene_name + '_' + str(i) for i in range(1, len(probes)+ 1)]\n",
    "    \n",
    "    # Add nanomoles to order from IDT\n",
    "    idt_bulk = [nmol for i in range(len(probes))]\n",
    "    \n",
    "    # Put everything in a DataFrame\n",
    "    probe_complete = pd.DataFrame({\n",
    "        'Name':labels,\n",
    "        'Sequence':probes,\n",
    "        'Length (bp)': lengths,\n",
    "        'Tm (°C)':melts,\n",
    "        'Nanomoles':idt_bulk\n",
    "    })\n",
    "    \n",
    "    # Name your file\n",
    "    name = gene_name + '_Probes.csv'\n",
    "    \n",
    "    probe_complete.to_csv(name)\n",
    "    \n",
    "    return probe_complete"
   ]
  },
  {
   "cell_type": "code",
   "execution_count": 6,
   "metadata": {},
   "outputs": [],
   "source": [
    "fastas = ['MuTsix.fasta.txt', 'MuXist_long.fasta.txt', 'MuXist_short.fasta.txt', 'U1.txt']\n",
    "names = ['MuTsix', 'MuXist_long', 'MuXist_short','MuU1']"
   ]
  },
  {
   "cell_type": "code",
   "execution_count": 7,
   "metadata": {},
   "outputs": [],
   "source": [
    "for i in range(len(fastas)):\n",
    "    rap_probes(fastas[i], names[i])"
   ]
  },
  {
   "cell_type": "code",
   "execution_count": null,
   "metadata": {},
   "outputs": [],
   "source": []
  }
 ],
 "metadata": {
  "kernelspec": {
   "display_name": "Python 3",
   "language": "python",
   "name": "python3"
  },
  "language_info": {
   "codemirror_mode": {
    "name": "ipython",
    "version": 3
   },
   "file_extension": ".py",
   "mimetype": "text/x-python",
   "name": "python",
   "nbconvert_exporter": "python",
   "pygments_lexer": "ipython3",
   "version": "3.7.3"
  }
 },
 "nbformat": 4,
 "nbformat_minor": 2
}
